{
  "nbformat": 4,
  "nbformat_minor": 0,
  "metadata": {
    "colab": {
      "provenance": [],
      "gpuType": "T4",
      "authorship_tag": "ABX9TyNvAjWBzu7UrEDTYY6ZAMr3",
      "include_colab_link": true
    },
    "kernelspec": {
      "name": "python3",
      "display_name": "Python 3"
    },
    "language_info": {
      "name": "python"
    },
    "accelerator": "GPU"
  },
  "cells": [
    {
      "cell_type": "markdown",
      "metadata": {
        "id": "view-in-github",
        "colab_type": "text"
      },
      "source": [
        "<a href=\"https://colab.research.google.com/github/Gonzalo-Ortega/Stereotypical-Behavior-Classification/blob/main/Analysis_Gonzalo.ipynb\" target=\"_parent\"><img src=\"https://colab.research.google.com/assets/colab-badge.svg\" alt=\"Open In Colab\"/></a>"
      ]
    },
    {
      "cell_type": "markdown",
      "source": [
        "### Import other libraries and Google Drive"
      ],
      "metadata": {
        "id": "t09qOSXZtkZ0"
      }
    },
    {
      "cell_type": "markdown",
      "metadata": {
        "id": "FuYABR-PxqtV"
      },
      "source": [
        "Usefull python libraries:\n",
        "\n",
        "- Matplotlib: Plotting and data visualization.\n",
        "- Pandas: Data management. Is most commonly used for data wrangling and data manipulation purposes.\n",
        "- NumPy: Used to create arrays or matrices that can be applied to DL or ML models."
      ]
    },
    {
      "cell_type": "code",
      "execution_count": 2,
      "metadata": {
        "id": "_R77lSI9qEkR"
      },
      "outputs": [],
      "source": [
        "# Data processing\n",
        "import pandas as pd\n",
        "import numpy as np\n",
        "\n",
        "from scipy.stats import binom\n",
        "from scipy.special import comb\n",
        "\n",
        "# Figures\n",
        "import matplotlib.pyplot as plt\n",
        "import matplotlib.tri as tri\n",
        "\n",
        "# Data preprocesing and modeling\n",
        "from sklearn.decomposition import PCA\n",
        "from sklearn.pipeline import make_pipeline\n",
        "from sklearn.preprocessing import StandardScaler\n",
        "from sklearn.cluster import AgglomerativeClustering\n",
        "\n",
        "# Others\n",
        "import os\n",
        "import fnmatch\n",
        "import cv2\n",
        "import re\n",
        "import random\n",
        "\n",
        "\n",
        "from google.colab import files\n",
        "from typing import List, Tuple\n"
      ]
    },
    {
      "cell_type": "code",
      "execution_count": 3,
      "metadata": {
        "id": "ly3iIK5LZ8mY",
        "colab": {
          "base_uri": "https://localhost:8080/"
        },
        "outputId": "1ea3d8d0-97cc-4e51-e891-e905393f26df"
      },
      "outputs": [
        {
          "output_type": "stream",
          "name": "stdout",
          "text": [
            "Mounted at /content/gdrive\n"
          ]
        }
      ],
      "source": [
        "# Mount your Google Drive so the colab its allow to get data from there.\n",
        "from google.colab import drive\n",
        "drive.mount('/content/gdrive')"
      ]
    },
    {
      "cell_type": "markdown",
      "metadata": {
        "id": "ekBBZpVWoPOD"
      },
      "source": [
        "# **Data analysis**\n",
        "---"
      ]
    },
    {
      "cell_type": "markdown",
      "source": [
        "\n",
        "## Load data"
      ],
      "metadata": {
        "id": "ePlJI-027qef"
      }
    },
    {
      "cell_type": "code",
      "execution_count": 4,
      "metadata": {
        "id": "Be_wBYAC7BFV"
      },
      "outputs": [],
      "source": [
        "def get_video_paths(data_path: str):\n",
        "  parts = data_path.split('/')\n",
        "  folder_path = '/'.join(parts[:-1])\n",
        "  filename = parts[-1].split('_beh-CROPDLC')[0]\n",
        "  video_path_top = f'{folder_path}/{filename}_beh-CROP.avi'\n",
        "  video_path_lateral = f'{folder_path}/{filename}_beh-CROP1.avi'\n",
        "  return video_path_top, video_path_lateral\n",
        "\n",
        "def load_paths(dir_path):\n",
        "  h5_paths_top = []\n",
        "  h5_paths_lateral = []\n",
        "  video_paths_top = []\n",
        "  video_paths_lateral = []\n",
        "  for dirpath, dirs, files in os.walk(dir_path):\n",
        "    for filename in fnmatch.filter(files, '*CROPDLC_resnet50_DLC_after_injJan5shuffle1_500000.h5'):\n",
        "      h5_paths_top.append(os.path.join(dirpath, filename))\n",
        "\n",
        "  for dirpath, dirs, files in os.walk(dir_path):\n",
        "    for filename in fnmatch.filter(files, '*CROP1DLC_resnet50_DLC-beh-after-inj-lateralJan7shuffle1_600000.h5'):\n",
        "      h5_paths_lateral.append(os.path.join(dirpath, filename))\n",
        "\n",
        "  for path in h5_paths_top:\n",
        "    video_path_top, video_path_lateral = get_video_paths(path)\n",
        "    video_paths_top.append(video_path_top)\n",
        "    video_paths_lateral.append(video_path_lateral)\n",
        "  return h5_paths_top, h5_paths_lateral, video_paths_top, video_paths_lateral\n",
        "\n",
        "def load_data(h5_paths_top, h5_paths_lateral):\n",
        "  data_top = []\n",
        "  data_lateral = []\n",
        "  for path in h5_paths_top:\n",
        "    data_top.append(pd.read_hdf(path, header = [1,2,3]))\n",
        "\n",
        "  for path in h5_paths_lateral:\n",
        "    data_lateral.append(pd.read_hdf(path, header = [1,2,3]))\n",
        "\n",
        "  for data in data_top:\n",
        "    data.columns = list(data.columns.get_level_values(1) + data.columns.get_level_values(2))\n",
        "\n",
        "    # Invert Y axis:\n",
        "    data.loc[:, data.columns[data.columns.str.endswith('y')]] = Y_RESOLUTION - data.loc[:, data.columns[data.columns.str.endswith('y')]]\n",
        "\n",
        "    # Rotate 90 degrees clockwise:\n",
        "    labels_to_rotate = ['Nose', 'Head', 'Ear_left', 'Ear_right', 'Neck',\n",
        "                        'Back_1', 'Back_2', 'Back_3', 'Back_4',\n",
        "                        'Tail_1', 'Tail_2', 'Tail_3', 'Tail_4']\n",
        "    for label in labels_to_rotate:\n",
        "      data = rotate_90_clockwise(data, label)\n",
        "\n",
        "  for data in data_lateral:\n",
        "    data.columns = list(data.columns.get_level_values(1) + data.columns.get_level_values(2))\n",
        "\n",
        "    # Invert Y axis:\n",
        "    data.loc[:, data.columns[data.columns.str.endswith('y')]] = Y_RESOLUTION - data.loc[:, data.columns[data.columns.str.endswith('y')]]\n",
        "\n",
        "  return data_top, data_lateral\n",
        "\n",
        "def rotate_90_clockwise(data, label='') -> pd.DataFrame:\n",
        "  \"\"\"\n",
        "  Rotates all poits from the desired data colum pair (x and y) 90º clockwise to\n",
        "  align the top view data with the lateral view data.\n",
        "\n",
        "  Parameters:\n",
        "  - data (pd.DataFrame): Data to rotate.\n",
        "  - label (str): Name of the colomns to rotate, without the last 'x' or 'y'.\n",
        "\n",
        "  Returns:\n",
        "  - data (pd.DataFrame): Data with the updated rotated column.\n",
        "  \"\"\"\n",
        "  centered_x = data[label + 'x'] - BOX_CENTER['x']\n",
        "  centered_y = data[label + 'y'] - BOX_CENTER['y']\n",
        "\n",
        "  coordinates = np.array([centered_x, centered_y])\n",
        "  rotation_matrix = np.array([[0, 1], [-1, 0]])\n",
        "  rotated_x, rotated_y = np.dot(rotation_matrix, coordinates)\n",
        "\n",
        "  data[label + 'x'] = rotated_x + BOX_CENTER['x']\n",
        "  data[label + 'y'] = rotated_y + BOX_CENTER['y']\n",
        "  return data\n"
      ]
    },
    {
      "cell_type": "code",
      "execution_count": 5,
      "metadata": {
        "id": "FTwtPwU6oVdx"
      },
      "outputs": [],
      "source": [
        "DATA_PATH = '/content/gdrive/MyDrive/SBC-Gonzalo/DATA'\n",
        "FIGURES_PATH = '/content/gdrive/MyDrive/SBC-Gonzalo/Colab-figures'\n",
        "H5_PATHS_TOP, H5_PATHS_LATERAL, VIDEO_PATHS_TOP, VIDEO_PATHS_LATERAL = load_paths(DATA_PATH)\n",
        "\n",
        "# Y video resolution:\n",
        "Y_RESOLUTION = 240\n",
        "\n",
        "# Box coordinates observed from video frames:\n",
        "BOX_TOP = {'x': [74, 237, 237, 74, 74], 'y': [43, 43, 206, 206, 43]}\n",
        "BOX_LATERAL = {'x': [94, 24, 310, 258, 283, 81, 94, 258], 'y': [100, 33, 33, 100, 200, 200, 100, 100]}\n",
        "\n",
        "BOX_CENTER = {'x':(BOX_TOP['x'][0] + BOX_TOP['x'][1]) / 2, 'y':(BOX_TOP['y'][0] + BOX_TOP['y'][3]) / 2}\n",
        "\n",
        "\n",
        "data_top, data_lateral = load_data(H5_PATHS_TOP, H5_PATHS_LATERAL)\n"
      ]
    },
    {
      "cell_type": "markdown",
      "source": [
        "## Auxiliary functions"
      ],
      "metadata": {
        "id": "aGB-w6GTVETP"
      }
    },
    {
      "cell_type": "code",
      "source": [
        "def info_from_path(video_path) -> dict():\n",
        "    # Extract Mouse number, date, and video type from the path using regular expressions\n",
        "    match = re.search(r'Mouse(\\d+)_([\\d-]+)_.*?beh-(CROP|CROP1)\\.avi', video_path)\n",
        "    if match:\n",
        "        mouse_number = match.group(1)\n",
        "        date = match.group(2)\n",
        "        video_format = 'Top' if match.group(3) == 'CROP' else 'Lateral'\n",
        "        info_dict = {\n",
        "            'MouseNumber': mouse_number,\n",
        "            'Date': date,\n",
        "            'VideoFormat': video_format\n",
        "        }\n",
        "        return info_dict\n",
        "\n",
        "def get_frame_at_time(video_path, minute, second):\n",
        "  # Open the video file\n",
        "  cap = cv2.VideoCapture(video_path)\n",
        "\n",
        "  # Calculate the frame position based on time\n",
        "  frame_position = int((minute * 60 + second) * cap.get(cv2.CAP_PROP_FPS))\n",
        "\n",
        "  # Set the frame position\n",
        "  cap.set(cv2.CAP_PROP_POS_FRAMES, frame_position)\n",
        "\n",
        "  # Read the frame at the specified time\n",
        "  ret, frame = cap.read()\n",
        "\n",
        "  # Release the video capture object\n",
        "  cap.release()\n",
        "\n",
        "  return frame\n",
        "\n",
        "def get_frame(video_path, frame):\n",
        "  # Open the video file\n",
        "  cap = cv2.VideoCapture(video_path)\n",
        "\n",
        "  # Set the frame position\n",
        "  cap.set(cv2.CAP_PROP_POS_FRAMES, frame)\n",
        "\n",
        "  # Read the frame at the specified time\n",
        "  ret, frame = cap.read()\n",
        "\n",
        "  # Release the video capture object\n",
        "  cap.release()\n",
        "\n",
        "  return frame\n",
        "\n",
        "def get_mouse_numbers() -> List[int]:\n",
        "  \"\"\"\n",
        "  Gets a list with all the mouse numbers.\n",
        "  \"\"\"\n",
        "  mouse_numbers_list = []\n",
        "  for path in VIDEO_PATHS_TOP:\n",
        "    info = info_from_path(path)\n",
        "    mouse_numbers_list.append(int(info['MouseNumber']))\n",
        "  return mouse_numbers_list\n",
        "\n",
        "def get_video_dates() -> List[str]:\n",
        "  \"\"\"\n",
        "  Gets a list with all the video dates.\n",
        "  \"\"\"\n",
        "  video_dates_list = []\n",
        "  for path in VIDEO_PATHS_TOP:\n",
        "    info = info_from_path(path)\n",
        "    video_dates_list.append(info['Date'])\n",
        "  return video_dates_list\n",
        "\n",
        "def get_data_frame_latex(data_frame: pd.DataFrame) -> str:\n",
        "  return data_frame.head(10).to_latex()\n",
        "\n",
        "def download_figures_zip():\n",
        "  !zip -r figures.zip $FIGURES_PATH\n",
        "  files.download('figures.zip')\n"
      ],
      "metadata": {
        "id": "Af17YvS3VIpJ"
      },
      "execution_count": 6,
      "outputs": []
    },
    {
      "cell_type": "markdown",
      "metadata": {
        "id": "znV-K0IbvTm4"
      },
      "source": [
        "## Trayectory"
      ]
    },
    {
      "cell_type": "code",
      "execution_count": 7,
      "metadata": {
        "id": "JZ8snmkJveP8"
      },
      "outputs": [],
      "source": [
        "def filter_data(data: pd.DataFrame, desired_likelihood: float) -> pd.DataFrame:\n",
        "  \"\"\"\n",
        "  Filters video data removing points whose likelihooed is less than desired and\n",
        "  adding NaN (np.nan) to its values instead.\n",
        "\n",
        "  Parameters:\n",
        "  - data (pd.DataFrame): Data to filter.\n",
        "  - desired_likelihood (float): Min likelihood each valid point should have.\n",
        "\n",
        "  Returns:\n",
        "  - filtered_data (pd.DataFrame): Copy of the original data with not likely\n",
        "    values changed by NaN (np.nan).\n",
        "  \"\"\"\n",
        "\n",
        "  filtered_data = data.copy()\n",
        "\n",
        "  parts = [\n",
        "      'Nose', 'Head', 'Ear_left', 'Ear_right', 'Neck',\n",
        "      'Back_1', 'Back_2', 'Back_3', 'Back_4',\n",
        "      'Tail_1', 'Tail_2', 'Tail_3', 'Tail_4',\n",
        "      'Paw_left', 'Paw_right'\n",
        "  ]\n",
        "\n",
        "  for part in parts:\n",
        "      likelihood_column = f'{part}likelihood'\n",
        "\n",
        "      if likelihood_column in filtered_data.columns:\n",
        "        x_column = f'{part}x'\n",
        "        y_column = f'{part}y'\n",
        "\n",
        "        mask = filtered_data[likelihood_column] < desired_likelihood\n",
        "        filtered_data.loc[mask, [x_column, y_column]] = np.nan\n",
        "\n",
        "  return filtered_data\n",
        "\n",
        "def add_means(filtered_data: pd.DataFrame) -> pd.DataFrame:\n",
        "  \"\"\"\n",
        "  Makes a mean with the valid values from the mouse head and adds the 'Meanx'\n",
        "  and 'Meany' columns to the pd.DataFrame.\n",
        "  \"\"\"\n",
        "  x_coords = np.array([filtered_data[point] for point in ['Nosex', 'Headx', 'Ear_leftx', 'Ear_rightx', 'Neckx']])\n",
        "  y_coords = np.array([filtered_data[point] for point in ['Nosey', 'Heady', 'Ear_lefty', 'Ear_righty', 'Necky']])\n",
        "\n",
        "  x_means = np.nanmean(x_coords, axis=0)\n",
        "  y_means = np.nanmean(y_coords, axis=0)\n",
        "\n",
        "  filtered_data = filtered_data.assign(Meanx=x_means)\n",
        "  filtered_data = filtered_data.assign(Meany=y_means)\n",
        "\n",
        "  return filtered_data\n",
        "\n",
        "def interpolate_data(filtered_data: pd.DataFrame) -> pd.DataFrame:\n",
        "  \"\"\"\n",
        "  Interpolates NaN (np.nan) values.\n",
        "  \"\"\"\n",
        "\n",
        "  interpolated_data = filtered_data.copy()\n",
        "\n",
        "  parts = [\n",
        "      'Nose', 'Head', 'Ear_left', 'Ear_right', 'Neck',\n",
        "      'Back_1', 'Back_2', 'Back_3', 'Back_4',\n",
        "      'Tail_1', 'Tail_2', 'Tail_3', 'Tail_4',\n",
        "      'Paw_left', 'Paw_right', 'Mean'\n",
        "  ]\n",
        "\n",
        "  for part in parts:\n",
        "    x_column = f'{part}x'\n",
        "    y_column = f'{part}y'\n",
        "\n",
        "    if x_column in interpolated_data.columns:\n",
        "      x_coords = np.array(filtered_data[x_column], dtype=float)\n",
        "      y_coords = np.array(filtered_data[y_column], dtype=float)\n",
        "\n",
        "      # Find indices of NaN values\n",
        "      nan_indices_x = np.isnan(x_coords)\n",
        "      nan_indices_y = np.isnan(y_coords)\n",
        "\n",
        "      non_nan_indices = np.arange(len(x_coords))\n",
        "\n",
        "      # Interpolate NaN values\n",
        "      if not non_nan_indices[~nan_indices_x].size == 0:\n",
        "        x_coords[nan_indices_x] = np.interp(non_nan_indices[nan_indices_x], non_nan_indices[~nan_indices_x], x_coords[~nan_indices_x])\n",
        "        y_coords[nan_indices_y] = np.interp(non_nan_indices[nan_indices_y], non_nan_indices[~nan_indices_y], y_coords[~nan_indices_y])\n",
        "\n",
        "      interpolated_data[x_column] = x_coords\n",
        "      interpolated_data[y_column] = y_coords\n",
        "\n",
        "  return interpolated_data\n",
        "\n",
        "def check_nan_percentages(part, likelihood):\n",
        "  part = part + 'likelihood'\n",
        "  for i in range(len(VIDEO_PATHS_LATERAL)):\n",
        "    nan_counter = 0\n",
        "    for row in data_lateral[i][part]:\n",
        "      if row < likelihood:\n",
        "        nan_counter += 1\n",
        "\n",
        "    total = len(filtered_data_lateral[i][part])\n",
        "    nan_percentage = nan_counter/total*100\n",
        "    print(f'Video {i}: {nan_percentage:.2f} %')\n",
        "\n",
        "def filter_and_interpolate(data, desired_likelihood):\n",
        "  filtered_data = []\n",
        "  interpolated_data = []\n",
        "\n",
        "  for data_frame in data:\n",
        "    filtered_data_frame = filter_data(data_frame, desired_likelihood)\n",
        "    filtered_data_frame = add_means(filtered_data_frame)\n",
        "    filtered_data.append(filtered_data_frame)\n",
        "\n",
        "    interpolated_data_frame = interpolate_data(filtered_data_frame)\n",
        "    interpolated_data.append(interpolated_data_frame)\n",
        "\n",
        "  return filtered_data, interpolated_data\n"
      ]
    },
    {
      "cell_type": "code",
      "execution_count": 8,
      "metadata": {
        "id": "qV8JXiBnsXHx"
      },
      "outputs": [],
      "source": [
        "def figure_interpolated_trayectory(interpolated_data, video_num):\n",
        "  data = interpolated_data[video_num]\n",
        "  video_path = VIDEO_PATHS_LATERAL[video_num]\n",
        "  info = info_from_path(video_path)\n",
        "  x = data['Meanx']\n",
        "  y = data['Meany']\n",
        "  number = info['MouseNumber']\n",
        "  date = info['Date']\n",
        "  format = info['VideoFormat']\n",
        "\n",
        "  # Interpolated trayectory Figure #\n",
        "  fig = plt.figure(figsize=(12, 5))\n",
        "  fig.suptitle(f'{format} trayectory - Video: {video_num}, Mouse: {number}, {date}')\n",
        "\n",
        "  # Plot 1: Trayectory\n",
        "  ax1 = fig.add_subplot(121)\n",
        "  ax1.plot(x, y, label='Position')\n",
        "  if format == 'Top':\n",
        "    ax1.plot(BOX_TOP['x'], BOX_TOP['y'], label='Box')\n",
        "  elif format == 'Lateral':\n",
        "    ax1.plot(BOX_LATERAL['x'], BOX_LATERAL['y'], label='Box')\n",
        "  ax1.set_box_aspect(1)\n",
        "  ax1.spines[['right', 'top']].set_visible(False)\n",
        "  ax1.set_xlabel('X')\n",
        "  ax1.set_ylabel('Y')\n",
        "  ax1.legend()\n",
        "\n",
        "  # Plot 2: Heatmap\n",
        "  ax2 = fig.add_subplot(122)\n",
        "  hist = ax2.hist2d(x, y, bins=20)\n",
        "  cbar = fig.colorbar(hist[3], ax=ax2)\n",
        "  cbar.set_label('Position frequency')\n",
        "  ax2.set_box_aspect(1)\n",
        "  ax2.set_xlabel('X')\n",
        "  ax2.set_ylabel('Y')\n",
        "\n",
        "  fig.savefig(f\"{FIGURES_PATH}/trayectory.pdf\")\n",
        "\n",
        "def figure_all_trayectories(data_top, data_lateral):\n",
        "  # Interpolated trayectory Figure #\n",
        "  fig = plt.figure(figsize=(12, 5))\n",
        "  fig.suptitle('All trayectories')\n",
        "\n",
        "  # Plot 1: All trayectories Top\n",
        "  ax1 = fig.add_subplot(121)\n",
        "  for index, data in enumerate(data_top):\n",
        "    ax1.plot(data['Meanx'], data['Meany'])\n",
        "\n",
        "  ax1.plot(BOX_TOP['x'], BOX_TOP['y'], label='Box')\n",
        "  ax1.set_box_aspect(1)\n",
        "  ax1.spines[['right', 'top']].set_visible(False)\n",
        "  ax1.set_xlabel('X')\n",
        "  ax1.set_ylabel('Y')\n",
        "  ax1.set_title('Top trajectories')\n",
        "  ax1.legend()\n",
        "\n",
        "  # Plot 2: All trayectories Lateral\n",
        "  ax2 = fig.add_subplot(122)\n",
        "  for data in data_lateral:\n",
        "    ax2.plot(data['Meanx'], data['Meany'])\n",
        "\n",
        "  ax2.plot(BOX_LATERAL['x'], BOX_LATERAL['y'], label='Box')\n",
        "  ax2.set_box_aspect(1)\n",
        "  ax2.spines[['right', 'top']].set_visible(False)\n",
        "  ax2.set_xlabel('X')\n",
        "  ax2.set_ylabel('Y')\n",
        "  ax2.set_title('Lateral trajectories')\n",
        "  ax2.legend()\n",
        "\n",
        "  fig.savefig(f\"{FIGURES_PATH}/all-trayectories.pdf\")\n"
      ]
    },
    {
      "cell_type": "code",
      "execution_count": null,
      "metadata": {
        "id": "pJexHSKskuR6"
      },
      "outputs": [],
      "source": [
        "DESIRED_LIKELIHOOD = 0.95\n",
        "filtered_data_top, interpolated_data_top = filter_and_interpolate(data_top, DESIRED_LIKELIHOOD)\n",
        "filtered_data_lateral, interpolated_data_lateral = filter_and_interpolate(data_lateral, DESIRED_LIKELIHOOD)"
      ]
    },
    {
      "cell_type": "code",
      "source": [
        "check_nan_percentages('Paw_left', 0.5)"
      ],
      "metadata": {
        "id": "dVkQlxfsU090"
      },
      "execution_count": null,
      "outputs": []
    },
    {
      "cell_type": "code",
      "source": [
        "# figure_all_trayectories(interpolated_data_top, interpolated_data_lateral)\n",
        "# for video in range(len(VIDEO_PATHS_TOP)):\n",
        "#   figure_interpolated_trayectory(interpolated_data_top, video)"
      ],
      "metadata": {
        "id": "jq8XPKqrUcJc"
      },
      "execution_count": 12,
      "outputs": []
    },
    {
      "cell_type": "markdown",
      "source": [
        "## Rearing"
      ],
      "metadata": {
        "id": "Cx_acbmYtNPV"
      }
    },
    {
      "cell_type": "markdown",
      "metadata": {
        "id": "VPFjYcYH5UPa"
      },
      "source": [
        "The mouse will put its weight on its hind legs, raise, it's forelimbs from the ground, and extend it's head upwards.\n",
        "\n",
        "VARS:\n",
        "- ``Steady location (position)``\n",
        "- ``Altitude change\t(height)``\n",
        "- ``Head stretching\t(head triangulation, angles)``\n",
        "- ``Next to the wall (position, ROIs)``\n",
        "\n",
        "Once the data is filtered, we can use the interpolated head's mean to check if the mouse is rearing by looking where the trayectory goes out of the box limits."
      ]
    },
    {
      "cell_type": "code",
      "execution_count": 13,
      "metadata": {
        "id": "VCqJzEnlUyLl"
      },
      "outputs": [],
      "source": [
        "FRAME_RATE = 20\n",
        "MIN_FRAMES = 5\n",
        "def get_rearing_intervals(data_frame: pd.DataFrame) -> List[Tuple[int, int]]:\n",
        "  \"\"\"\n",
        "  Gets a list of time intervals where the mouse is rearing in the format:\n",
        "  '(start_frame, end_frame)'\n",
        "  \"\"\"\n",
        "\n",
        "  # Check frames where trayectory goes out of the box limits.\n",
        "  out_of_box_frames = set()\n",
        "  for index, x in enumerate(data_frame['Meanx']):\n",
        "    if x < BOX_TOP['x'][0] or x > BOX_TOP['x'][1]:\n",
        "      out_of_box_frames.add(index)\n",
        "\n",
        "  for index, y in enumerate(data_frame['Meany']):\n",
        "    if y < BOX_TOP['y'][0] or y > BOX_TOP['y'][3]:\n",
        "      out_of_box_frames.add(index)\n",
        "\n",
        "  # Group frames into intervals:\n",
        "  rearing_intervals_list = []\n",
        "  start_frame = 0\n",
        "  last_frame = 0\n",
        "  out_of_box_frames = list(out_of_box_frames)\n",
        "  out_of_box_frames.sort()\n",
        "  for frame in out_of_box_frames:\n",
        "    if frame != last_frame + 1:\n",
        "      rearing_intervals_list.append((start_frame, last_frame))\n",
        "      start_frame = frame\n",
        "      last_frame = frame\n",
        "    else:\n",
        "      last_frame = frame\n",
        "\n",
        "  # Filter by minumun interval frame amount:\n",
        "  rearing_intervals_list = [\n",
        "      (start, end)\n",
        "      for start, end in rearing_intervals_list if end - start > MIN_FRAMES\n",
        "  ]\n",
        "\n",
        "  return rearing_intervals_list\n",
        "\n",
        "def get_rearing_frames(data_frame: pd.DataFrame) ->  List[Tuple[int, int]]:\n",
        "  \"\"\"\n",
        "    Gets the mid frame of each rearing interval with the format:\n",
        "    '(min, sec)'\n",
        "  \"\"\"\n",
        "  rearing_intervals = get_rearing_intervals(data_frame)\n",
        "  rearing_frames = [\n",
        "      ((start + end)/2 // FRAME_RATE // 60, (start + end)/2 / FRAME_RATE % 60)\n",
        "      for start, end in rearing_intervals if end - start > MIN_FRAMES\n",
        "  ]\n",
        "  return rearing_frames\n",
        "\n",
        "def get_rearing_times(data_top: List[pd.DataFrame]) -> List[float]:\n",
        "  \"\"\"\n",
        "    Gets a list with the total time the mouse rear in each video.\n",
        "  \"\"\"\n",
        "  rearing_times_list = []\n",
        "  for data_frame in data_top:\n",
        "    rearing_intervals = get_rearing_intervals(data_frame)\n",
        "    total_time = 0\n",
        "    for start, end in rearing_intervals:\n",
        "      total_time += (end - start) / FRAME_RATE\n",
        "    rearing_times_list.append(total_time)\n",
        "  return rearing_times_list\n",
        "\n",
        "def get_rearing_amounts(data_top: List[pd.DataFrame]) -> List[int]:\n",
        "  \"\"\"\n",
        "    Gets a list with the number of times the mouse rear in each video.\n",
        "  \"\"\"\n",
        "  rearing_amounts_list = []\n",
        "  for data_frame in data_top:\n",
        "    rearing_intervals = get_rearing_intervals(data_frame)\n",
        "    rearing_amounts_list.append(len(rearing_intervals))\n",
        "  return rearing_amounts_list\n"
      ]
    },
    {
      "cell_type": "code",
      "source": [
        "def figure_rearing_frames(data_top, video_number:int):\n",
        "  rearing_frames = get_rearing_frames(data_top[video_number])\n",
        "\n",
        "  i = 0\n",
        "  for minute, second in rearing_frames:\n",
        "    fig = plt.figure(figsize=(12, 5))\n",
        "    i += 1\n",
        "    frame = get_frame_at_time(VIDEO_PATHS_TOP[video_number], minute, second)\n",
        "    ax1 = fig.add_subplot(1, 2, 1)\n",
        "    rotated_frame_top = cv2.rotate(frame, cv2.ROTATE_90_CLOCKWISE)\n",
        "    ax1.imshow(cv2.cvtColor(rotated_frame_top, cv2.COLOR_BGR2RGB))\n",
        "    ax1.set_title('Frame {}:{:05.2f}s'.format(int(minute), second))\n",
        "    ax1.axis('off')\n",
        "\n",
        "    frame = get_frame_at_time(VIDEO_PATHS_LATERAL[video_number], minute, second)\n",
        "    ax2 = fig.add_subplot(1, 2, 2)\n",
        "    ax2.imshow(cv2.cvtColor(frame, cv2.COLOR_BGR2RGB))\n",
        "    ax2.axis('off')\n",
        "\n",
        "    plt.tight_layout()\n",
        "    fig.savefig(f\"{FIGURES_PATH}/rearing-{i}.pdf\")\n"
      ],
      "metadata": {
        "id": "Dlv_cbu0Go9C"
      },
      "execution_count": 14,
      "outputs": []
    },
    {
      "cell_type": "code",
      "execution_count": 15,
      "metadata": {
        "id": "3tLlNbqws49a"
      },
      "outputs": [],
      "source": [
        "# video_number = 5\n",
        "\n",
        "# figure_interpolated_trayectory(interpolated_data_top, video_number)\n",
        "# figure_interpolated_trayectory(interpolated_data_lateral, video_number)\n",
        "# figure_rearing_frames(interpolated_data_top, video_number)"
      ]
    },
    {
      "cell_type": "markdown",
      "metadata": {
        "id": "fCFb6AM3FqFA"
      },
      "source": [
        "## Body triangulations"
      ]
    },
    {
      "cell_type": "code",
      "execution_count": 16,
      "metadata": {
        "id": "5fIjDhFkacbG"
      },
      "outputs": [],
      "source": [
        "def triangulate(data, frame):\n",
        "  x = []\n",
        "  y = []\n",
        "  parts = [\n",
        "        'Nose', 'Head', 'Ear_left', 'Ear_right', 'Neck',\n",
        "        'Back_1', 'Back_2', 'Back_3', 'Back_4',\n",
        "        'Tail_1', 'Tail_2', 'Tail_3', 'Tail_4']\n",
        "  for part in parts:\n",
        "   x.append(data[f'{part}x'][frame])\n",
        "   y.append(data[f'{part}y'][frame])\n",
        "\n",
        "  triangles = np.array([\n",
        "    [0, 1, 2],\n",
        "    [0, 1, 3],\n",
        "    [2, 3, 1],\n",
        "    [2, 3, 4],\n",
        "    [2, 3, 8]\n",
        "  ])\n",
        "  triangulation = tri.Triangulation(x, y, triangles)\n",
        "\n",
        "  return x, y, triangulation\n",
        "\n",
        "def triangulate_lateral(data, frame):\n",
        "  x = []\n",
        "  y = []\n",
        "  parts = [\n",
        "        'Nose', 'Head', 'Ear_left', 'Ear_right', 'Neck',\n",
        "        'Back_1', 'Back_2', 'Back_3', 'Back_4',\n",
        "        'Tail_1', 'Tail_2', 'Tail_3', 'Tail_4',\n",
        "        'Paw_left', 'Paw_right']\n",
        "  for part in parts:\n",
        "   x.append(data[f'{part}x'][frame])\n",
        "   y.append(data[f'{part}y'][frame])\n",
        "\n",
        "  triangles = np.array([\n",
        "    [0, 1, 2],\n",
        "    [0, 1, 3],\n",
        "    [2, 3, 1],\n",
        "    [2, 3, 4],\n",
        "    [2, 3, 8]\n",
        "  ])\n",
        "  triangulation = tri.Triangulation(x, y, triangles)\n",
        "\n",
        "  return x, y, triangulation\n"
      ]
    },
    {
      "cell_type": "code",
      "execution_count": 17,
      "metadata": {
        "id": "gOb_IVqUk69e"
      },
      "outputs": [],
      "source": [
        "def figure_triangulations_trayectory(data_top, data_lateral):\n",
        "  fig = plt.figure(figsize=(12, 5))\n",
        "  fig.suptitle('Triangulation')\n",
        "\n",
        "  # Plot 1\n",
        "  ax1 = fig.add_subplot(121)\n",
        "  for frame in range(1, 5000, 500):\n",
        "    x, y, triangulation = triangulate(data_top, frame)\n",
        "    alpha = frame / 5000.0\n",
        "    ax1.triplot(triangulation, '.--', alpha=alpha)\n",
        "  ax1.plot(BOX_TOP['x'], BOX_TOP['y'], label='Box')\n",
        "  ax1.set_box_aspect(1)\n",
        "  ax1.spines[['right', 'top']].set_visible(False)\n",
        "  ax1.set_xlabel('X')\n",
        "  ax1.set_ylabel('Y')\n",
        "  ax1.legend()\n",
        "\n",
        "  # Plot 2\n",
        "  ax2 = fig.add_subplot(122)\n",
        "  for frame in range(1, 5000, 500):\n",
        "    x, y, triangulation = triangulate(data_lateral, frame)\n",
        "    alpha = frame / 5000.0\n",
        "    ax2.triplot(triangulation, '.--', alpha=alpha)\n",
        "  ax2.plot(BOX_LATERAL['x'], BOX_LATERAL['y'], label='Box')\n",
        "  ax2.set_box_aspect(1)\n",
        "  ax2.spines[['right', 'top']].set_visible(False)\n",
        "  ax2.set_xlabel('X')\n",
        "  ax2.set_ylabel('Y')\n",
        "  ax2.legend()\n",
        "\n",
        "def figure_triangulation_frame_top(data, video, frame):\n",
        "  data_frame = data[video]\n",
        "  frame_img = get_frame(VIDEO_PATHS_TOP[video], frame)\n",
        "  x, y, triangulation = triangulate(data_frame, frame)\n",
        "\n",
        "  # Invert frame image\n",
        "  #frame_img = frame_img[::-1, :, :]\n",
        "\n",
        "  # Rotate the frame image with the box center rotation center\n",
        "  #center = (BOX_CENTER['x'], BOX_CENTER['y'])  # Center of rotation\n",
        "  #angle = -90  # Rotation angle (clockwise)\n",
        "  #rotation_matrix = cv2.getRotationMatrix2D(center, angle, 1.0)\n",
        "  #frame_img = cv2.warpAffine(frame_img, rotation_matrix, (frame_img.shape[1], frame_img.shape[0]))\n",
        "\n",
        "  frame_img = cv2.rotate(frame_img, cv2.ROTATE_90_CLOCKWISE)\n",
        "\n",
        "  fig = plt.figure(figsize=(12, 5))\n",
        "  ax1 = fig.add_subplot(121)\n",
        "  ax1.triplot(triangulation, '.--')\n",
        "  #for i, txt in enumerate(range(len(x))):\n",
        "  #    ax1.text(x[i], y[i], f'{txt}', ha='right', va='bottom')\n",
        "  ax1.plot(x[8:], y[8:], '.--')\n",
        "  ax1.plot(x[4:9], y[4:9], '.--')\n",
        "  ax1.plot(BOX_TOP['x'], BOX_TOP['y'])\n",
        "\n",
        "  ax2 = fig.add_subplot(122)\n",
        "  ax2.imshow(cv2.cvtColor(frame_img, cv2.COLOR_BGR2RGB))\n",
        "\n",
        "  fig.show()\n",
        "\n",
        "def figure_triangulation_frame_lateral(data, video, frame):\n",
        "  data_frame = data[video]\n",
        "  frame_img = get_frame(VIDEO_PATHS_LATERAL[video], frame)\n",
        "  x, y, triangulation = triangulate_lateral(data_frame, frame)\n",
        "  fig = plt.figure(figsize=(12, 5))\n",
        "  ax1 = fig.add_subplot(121)\n",
        "  ax1.triplot(triangulation, '.--')\n",
        "\n",
        "  #for i, txt in enumerate(range(len(x))):\n",
        "  #  ax1.text(x[i], y[i], f'{txt}', ha='right', va='bottom')\n",
        "\n",
        "  ax1.plot(x[8:13], y[8:13], '.--')\n",
        "  ax1.plot(x[4:9], y[4:9], '.--')\n",
        "  ax1.plot(BOX_LATERAL['x'], BOX_LATERAL['y'])\n",
        "\n",
        "  ax2 = fig.add_subplot(122)\n",
        "  ax2.imshow(cv2.cvtColor(frame_img, cv2.COLOR_BGR2RGB))\n",
        "\n",
        "  fig.show()\n"
      ]
    },
    {
      "cell_type": "code",
      "source": [
        "# video = 75\n",
        "# min, sec = 0, 13\n",
        "# frame = int((min*60 + sec) * 20)\n",
        "\n",
        "# figure_triangulations_trayectory(interpolated_data_top[video], interpolated_data_lateral[video])\n",
        "\n",
        "# for i in range(frame - 20, frame + 20, 5):\n",
        "#   figure_triangulation_frame_top(interpolated_data_top, video, i)\n",
        "#   figure_triangulation_frame_lateral(interpolated_data_lateral, video, i)\n"
      ],
      "metadata": {
        "id": "AahDbDusI77f"
      },
      "execution_count": 18,
      "outputs": []
    },
    {
      "cell_type": "markdown",
      "source": [
        "## Speed and aceleration"
      ],
      "metadata": {
        "id": "ejMnxryIt0yH"
      }
    },
    {
      "cell_type": "code",
      "source": [
        "def add_time(interpolated_data: pd.DataFrame):\n",
        "  frame_rate = 20\n",
        "  time_intervals = interpolated_data['Meanx'].size\n",
        "  total_time = time_intervals / frame_rate\n",
        "  time = np.linspace(0, total_time, time_intervals)\n",
        "\n",
        "  interpolated_data['Time'] = time\n",
        "  return interpolated_data\n",
        "\n",
        "def add_speed(interpolated_data: pd.DataFrame):\n",
        "  dx = np.diff(interpolated_data['Meanx'])\n",
        "  dy = np.diff(interpolated_data['Meany'])\n",
        "  speed = np.sqrt(dx**2 + dy**2)\n",
        "  speed = np.append(speed, speed[-1])\n",
        "  speed[0] = speed[1]\n",
        "\n",
        "  interpolated_data['Speed'] = speed\n",
        "  return interpolated_data\n",
        "\n",
        "def add_aceleration(interpolated_data: pd.DataFrame):\n",
        "  aceleration = np.diff(interpolated_data['Speed'])\n",
        "  aceleration = np.append(aceleration, aceleration[-1])\n",
        "  aceleration[0] = aceleration[1]\n",
        "\n",
        "  interpolated_data['Aceleration'] = aceleration\n",
        "  return interpolated_data\n",
        "\n",
        "def get_mean_speeds(data_top: List[pd.DataFrame]):\n",
        "  mean_speeds_list = []\n",
        "  for data_frame in data_top:\n",
        "    mean_speeds_list.append(np.mean(data_frame['Speed']))\n",
        "  return mean_speeds_list\n",
        "\n",
        "def get_mean_abs_acelerations(data_top: List[pd.DataFrame]):\n",
        "  mean_abs_acelerations_list = []\n",
        "  for data_frame in data_top:\n",
        "    mean_abs_acelerations_list.append(np.mean(abs(data_frame['Aceleration'])))\n",
        "  return mean_abs_acelerations_list\n",
        "\n",
        "def get_total_times(data_top: List[pd.DataFrame]):\n",
        "  total_times_list = []\n",
        "  for data_frame in data_top:\n",
        "    total_times_list.append(data_frame['Time'].iloc[-1])\n",
        "  return total_times_list\n"
      ],
      "metadata": {
        "id": "e3Xg4ZR2uV_D"
      },
      "execution_count": 23,
      "outputs": []
    },
    {
      "cell_type": "code",
      "source": [
        "def figure_speed_aceleration(interpolated_data, video_num):\n",
        "  data = interpolated_data[video_num]\n",
        "  video_path = VIDEO_PATHS_TOP[video_num]\n",
        "  info = info_from_path(video_path)\n",
        "\n",
        "  fig = plt.figure(figsize=(12, 5))\n",
        "  number = info['MouseNumber']\n",
        "  date = info['Date']\n",
        "  fig.suptitle(f'Trayectory speed and aceleration - Video: {video_num}, Mouse: {number}, {date}')\n",
        "\n",
        "  ax1 = fig.add_subplot(121)\n",
        "  ax1.plot(data['Time'], data['Speed'])\n",
        "  ax1.set_box_aspect(1)\n",
        "  ax1.spines[['right', 'top']].set_visible(False)\n",
        "  ax1.set_xlabel('Time [$s$]')\n",
        "  ax1.set_ylabel('Speed [$distance/s$]')\n",
        "\n",
        "  ax1 = fig.add_subplot(122)\n",
        "  ax1.plot(data['Time'], data['Aceleration'])\n",
        "  ax1.set_box_aspect(1)\n",
        "  ax1.spines[['right', 'top']].set_visible(False)\n",
        "  ax1.set_xlabel('Time [$s$]')\n",
        "  ax1.set_ylabel('Aceleration [$distance/s^2$]')\n",
        "\n",
        "  fig.savefig(f\"{FIGURES_PATH}/speed-aceleration.pdf\")\n"
      ],
      "metadata": {
        "id": "Z3NjhvxD2OKK"
      },
      "execution_count": 24,
      "outputs": []
    },
    {
      "cell_type": "code",
      "source": [
        "for data in interpolated_data_top:\n",
        "  data = add_time(data)\n",
        "  data = add_speed(data)\n",
        "  data = add_aceleration(data)\n",
        "\n",
        "for data in interpolated_data_lateral:\n",
        "  data = add_time(data)\n",
        "  data = add_speed(data)\n",
        "  data = add_aceleration(data)"
      ],
      "metadata": {
        "id": "VXB3S2a-877I"
      },
      "execution_count": 25,
      "outputs": []
    },
    {
      "cell_type": "code",
      "source": [
        "# video = 5\n",
        "# figure_speed_aceleration(interpolated_data_top, video)\n",
        "# figure_speed_aceleration(interpolated_data_lateral, video)"
      ],
      "metadata": {
        "id": "e3PQpQUi8_nN"
      },
      "execution_count": 26,
      "outputs": []
    },
    {
      "cell_type": "markdown",
      "source": [
        "## PCA and Clustering"
      ],
      "metadata": {
        "id": "RGRk1gdqF7D2"
      }
    },
    {
      "cell_type": "code",
      "source": [
        "def initialize_features(data_for_pca):\n",
        "  features = pd.DataFrame()\n",
        "\n",
        "  features['Animal_number'] = get_mouse_numbers()[:len(data_for_pca)]\n",
        "  # features['Date'] = get_video_dates()\n",
        "  features['Rearing_amount'] = get_rearing_amounts(data_for_pca)\n",
        "  features['Rearing_time'] = get_rearing_times(data_for_pca)\n",
        "  features['Mean_speed'] = get_mean_speeds(data_for_pca)\n",
        "  features['Mean_abs_aceleration'] = get_mean_abs_acelerations(data_for_pca)\n",
        "  features['Total_time'] = get_total_times(data_for_pca)\n",
        "\n",
        "  return features\n",
        "\n",
        "def initialize_assignment_check(features: pd.DataFrame) -> pd.DataFrame:\n",
        "  animals_treatment = pd.read_csv(DATA_PATH + '/Animals_treatment.csv')\n",
        "  assignment_check = pd.DataFrame()\n",
        "  assignment_check['Animal_number'] = features['Animal_number']\n",
        "  return pd.merge(assignment_check, animals_treatment, on='Animal_number')\n",
        "\n",
        "def check_assigment(assigment_check, assignment):\n",
        "  map = assigment_check['Treatment'].map({'CONTROL': 1, 'NMDA': 0})\n",
        "  return (assignment == map).mean()\n",
        "\n",
        "def compute_features_pca(features) -> Tuple[np.ndarray, PCA]:\n",
        "  scaler = StandardScaler()\n",
        "  scaler.fit(features)\n",
        "  features_scaled = scaler.transform(features)\n",
        "\n",
        "  pca = PCA()\n",
        "  pca.fit(features_scaled)\n",
        "  features_pca = pca.transform(features_scaled)\n",
        "\n",
        "  return features_pca, pca\n",
        "\n",
        "def compute_agg_cluster(features_pca):\n",
        "  agg = AgglomerativeClustering()\n",
        "  return agg.fit_predict(features_pca)\n",
        "\n",
        "def compute_random_cluster(features_pca):\n",
        "  return [random.choice([0, 1]) for _ in range(len(features_pca))]\n"
      ],
      "metadata": {
        "id": "vYXspzpQGbxZ"
      },
      "execution_count": 42,
      "outputs": []
    },
    {
      "cell_type": "code",
      "source": [
        "def figure_scatter_features_pca(features_pca):\n",
        "  plt.figure(figsize=(6, 4))\n",
        "  plt.title('Scatter features after PCA')\n",
        "  plt.scatter(features_pca[:, 0], features_pca[:, 1])\n",
        "  plt.gca().set_aspect(\"equal\")\n",
        "  plt.xlabel(\"First principal component\")\n",
        "  plt.ylabel(\"Second principal component\")\n",
        "\n",
        "  plt.savefig(f\"{FIGURES_PATH}/scatter-features.pdf\")\n",
        "\n",
        "def figure_color_principal_components(features, pca):\n",
        "  plt.figure(figsize=(6, 4))\n",
        "  plt.title('First two principal components')\n",
        "  plt.matshow(pca.components_[:2], cmap='viridis')\n",
        "  plt.yticks([0, 1], [\"First component\", \"Second component\"])\n",
        "  plt.colorbar()\n",
        "  plt.xticks(range(len(features.columns)),\n",
        "  features.columns, rotation=60, ha='left')\n",
        "  plt.xlabel(\"Features\")\n",
        "  plt.ylabel(\"Principal components\")\n",
        "\n",
        "  plt.savefig(f\"{FIGURES_PATH}/color-principal-components.pdf\")\n",
        "\n",
        "def figure_scatter_agglomerative_clusterig(features_pca, assignment):\n",
        "  plt.figure(figsize=(6, 4))\n",
        "  plt.scatter(features_pca[:, 0], features_pca[:, 1], c=assignment, cmap='viridis', alpha=0.5)\n",
        "  plt.xlabel(\"First principal component\")\n",
        "  plt.ylabel(\"Second principal component\")\n",
        "  plt.title(\"Agglomerative Clustering Results\")\n",
        "\n",
        "  plt.savefig(f\"{FIGURES_PATH}/agglomerative-clustering.pdf\")\n",
        "\n",
        "def figure_pca_explained_variance(pca):\n",
        "  acum_variance = pca.explained_variance_ratio_.cumsum()\n",
        "  fig, (ax1, ax2) = plt.subplots(nrows=1, ncols=2, figsize=(12, 4))\n",
        "  ax1.bar(\n",
        "      x      = np.arange(pca.n_components_) + 1,\n",
        "      height = pca.explained_variance_ratio_\n",
        "  )\n",
        "\n",
        "  for x, y in zip(np.arange(len(features.columns)) + 1, pca.explained_variance_ratio_):\n",
        "      label = round(y, 2)\n",
        "      ax1.annotate(\n",
        "          label,\n",
        "          (x,y),\n",
        "          textcoords=\"offset points\",\n",
        "          xytext=(0,10),\n",
        "          ha='center'\n",
        "      )\n",
        "\n",
        "  ax1.set_xticks(np.arange(pca.n_components_) + 1)\n",
        "  ax1.set_ylim(0, 1.1)\n",
        "  ax1.set_title('Explained variance explained by each component')\n",
        "  ax1.set_xlabel('Principal component')\n",
        "  ax1.set_ylabel('Explained variance percentage')\n",
        "\n",
        "  ax2.plot(\n",
        "      np.arange(len(features.columns)) + 1,\n",
        "      acum_variance,\n",
        "      marker = 'o'\n",
        "  )\n",
        "\n",
        "  for x, y in zip(np.arange(len(features.columns)) + 1, acum_variance):\n",
        "      label = round(y, 2)\n",
        "      ax2.annotate(\n",
        "          label,\n",
        "          (x,y),\n",
        "          textcoords=\"offset points\",\n",
        "          xytext=(0,10),\n",
        "          ha='center'\n",
        "      )\n",
        "\n",
        "  ax2.set_ylim(0, 1.1)\n",
        "  ax2.set_xticks(np.arange(pca.n_components_) + 1)\n",
        "  ax2.set_title('Acum. explained variance percentage')\n",
        "  ax2.set_xlabel('Principal component')\n",
        "  ax2.set_ylabel('Acum. variance percentage')\n",
        "\n",
        "  plt.savefig(f\"{FIGURES_PATH}/explained-pca-variance.pdf\")\n",
        "\n",
        "def figure_binomial_dist(n=100, p=0.5):\n",
        "  # Generate x values (number of successes)\n",
        "  x = np.arange(0, n+1)\n",
        "\n",
        "  # Calculate the binomial probability mass function (PMF) for each x\n",
        "  pmf_values = binom.pmf(x, n, p)\n",
        "\n",
        "  # Plot the binomial distribution\n",
        "  plt.figure(figsize=(6, 4))\n",
        "  plt.plot(x, pmf_values)\n",
        "  plt.title('Binomial Distribution')\n",
        "  plt.xlabel('Number of Successes')\n",
        "  plt.ylabel('Probability')\n",
        "  xticks = np.arange(0, 100, 10)\n",
        "  plt.xticks(xticks)\n",
        "  plt.savefig(f\"{FIGURES_PATH}/binomial-distribution.pdf\")\n",
        "  plt.show()\n",
        "\n",
        "def figure_cumulative_binomial_dist(n=100, p=0.5):\n",
        "  x = np.arange(0, n+1)\n",
        "  cdf_values = binom.cdf(x, n, p)\n",
        "\n",
        "  # Plot the cumulative binomial distribution\n",
        "  plt.figure(figsize=(6, 4))\n",
        "  plt.plot(x, 1- cdf_values)\n",
        "  plt.plot([57, 57], [0,0.85], label='Archived success: 57%')\n",
        "  intersection_probability = cdf_values[np.where(x == 57)[0][0]]\n",
        "  plt.plot(57, 1-binom.cdf(57, n, p), marker='x', label='0.0666')\n",
        "\n",
        "\n",
        "  plt.title('Inverse Cumulative Binomial Distribution')\n",
        "  plt.xlabel('Successes percentage')\n",
        "  plt.ylabel('Inverse cumulative probability')\n",
        "  plt.legend()\n",
        "  plt.savefig(f\"{FIGURES_PATH}/inverse-cumulative-binomial-distribution.pdf\")\n",
        "  plt.show()\n"
      ],
      "metadata": {
        "id": "Q39SesO3bgvB"
      },
      "execution_count": 28,
      "outputs": []
    },
    {
      "cell_type": "code",
      "source": [
        "features = initialize_features(interpolated_data_top)\n",
        "features_pca, pca = compute_features_pca(features)\n",
        "assignment = compute_agg_cluster(features_pca)\n",
        "# assignment = compute_random_cluster(features_pca)\n",
        "\n",
        "assignment_check = initialize_assignment_check(features)\n",
        "check_assigment(assignment_check, assignment)\n"
      ],
      "metadata": {
        "id": "CjuBH_RSiIBh"
      },
      "execution_count": null,
      "outputs": []
    },
    {
      "cell_type": "code",
      "source": [
        "# figure_scatter_features_pca(features_pca)\n",
        "# figure_color_principal_components(features, pca)\n",
        "# figure_pca_explained_variance(pca)\n",
        "\n",
        "# figure_scatter_agglomerative_clusterig(features_pca, assignment)\n",
        "# figure_binomial_dist()\n",
        "# figure_cumulative_binomial_dist()"
      ],
      "metadata": {
        "id": "h0kzYvUHRkaW"
      },
      "execution_count": 44,
      "outputs": []
    },
    {
      "cell_type": "markdown",
      "source": [
        "## Method testing"
      ],
      "metadata": {
        "id": "kL6YYhdGu_nU"
      }
    },
    {
      "cell_type": "code",
      "source": [
        "def compute_method_distribution(features: pd.DataFrame, sesions=50, iterations=1000) -> List[float]:\n",
        "  dist = []\n",
        "  for i in range(iterations):\n",
        "    features_sample = features.sample(n=sesions)\n",
        "    features_pca, pca = compute_features_pca(features_sample)\n",
        "    assignment = compute_agg_cluster(features_pca)\n",
        "    assignment_check = initialize_assignment_check(features_sample)\n",
        "    dist.append(check_assigment(assignment_check, assignment))\n",
        "  return dist"
      ],
      "metadata": {
        "id": "L1ImsI0UvDnB"
      },
      "execution_count": 31,
      "outputs": []
    },
    {
      "cell_type": "code",
      "source": [
        "def figure_method_dist(dist_values: List[float]):\n",
        "  hist, edges = np.histogram(dist_values, bins=50, range=(0, 1))\n",
        "  quantiles = np.quantile(dist_values, [0.025, 0.5, 0.975])\n",
        "\n",
        "  hist = hist / len(dist_values)\n",
        "\n",
        "  plt.figure(figsize=(6, 4))\n",
        "  # plt.bar(edges[:-1], hist, width=0.01, color='grey')\n",
        "\n",
        "  plt.plot([quantiles[0], quantiles[0]], [0, 0.1], label='0.025 quantile')\n",
        "  plt.plot([quantiles[1], quantiles[1]], [0, 0.1], label='Median')\n",
        "  plt.plot([quantiles[2], quantiles[2]], [0, 0.1], label='0.975 quantile')\n",
        "\n",
        "  plt.plot(edges[:-1], hist, marker='', linestyle='-')\n",
        "\n",
        "  plt.title('Method Distribution')\n",
        "  plt.xlabel('Success proportion')\n",
        "  plt.ylabel('Probability')\n",
        "  xticks = np.arange(0, 1.1, 0.1)\n",
        "  plt.xticks(xticks)\n",
        "  plt.legend()\n",
        "\n",
        "  plt.savefig(f\"{FIGURES_PATH}/method-distribution.pdf\")\n",
        "  plt.show()"
      ],
      "metadata": {
        "id": "mEUr9i4v4mii"
      },
      "execution_count": 34,
      "outputs": []
    },
    {
      "cell_type": "code",
      "source": [
        "dist = compute_method_distribution(features, iterations=1000)\n"
      ],
      "metadata": {
        "id": "cMW0uw9o372Y"
      },
      "execution_count": 32,
      "outputs": []
    },
    {
      "cell_type": "code",
      "source": [
        "figure_method_dist(dist)"
      ],
      "metadata": {
        "id": "ClphEzv48-Gh",
        "colab": {
          "base_uri": "https://localhost:8080/",
          "height": 410
        },
        "outputId": "7a530d10-3a5c-4165-edab-ddff24d83ccb"
      },
      "execution_count": 35,
      "outputs": [
        {
          "output_type": "display_data",
          "data": {
            "text/plain": [
              "<Figure size 600x400 with 1 Axes>"
            ],
            "image/png": "[encoded data removed]"
          },
          "metadata": {}
        }
      ]
    }
  ]
}