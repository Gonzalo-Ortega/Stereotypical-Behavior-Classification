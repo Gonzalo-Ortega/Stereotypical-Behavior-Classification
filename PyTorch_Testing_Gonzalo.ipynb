{
  "cells": [
    {
      "cell_type": "markdown",
      "metadata": {
        "id": "view-in-github",
        "colab_type": "text"
      },
      "source": [
        "<a href=\"https://colab.research.google.com/github/Gonzalo-Ortega/Stereotypical-Behavior-Classification/blob/main/PyTorch_Testing_Gonzalo.ipynb\" target=\"_parent\"><img src=\"https://colab.research.google.com/assets/colab-badge.svg\" alt=\"Open In Colab\"/></a>"
      ]
    },
    {
      "cell_type": "code",
      "execution_count": null,
      "metadata": {
        "id": "Zs5-f6lnyFeg"
      },
      "outputs": [],
      "source": [
        "\n",
        "import matplotlib.pyplot as plt\n",
        "\n",
        "from torchvision import datasets\n",
        "from torchvision import transforms\n",
        "from torchvision import torch\n",
        "\n",
        "import torch.nn as nn\n"
      ]
    },
    {
      "cell_type": "code",
      "execution_count": null,
      "metadata": {
        "colab": {
          "base_uri": "https://localhost:8080/"
        },
        "id": "iBbFoM7Z3weG",
        "outputId": "e4f7b3f7-56d0-4c2a-99c8-2bb406ca46b6"
      },
      "outputs": [
        {
          "output_type": "stream",
          "name": "stdout",
          "text": [
            "Mounted at /content/gdrive\n"
          ]
        }
      ],
      "source": [
        "from google.colab import drive\n",
        "drive.mount('/content/gdrive')"
      ]
    },
    {
      "cell_type": "markdown",
      "metadata": {
        "id": "MfuNA5EnL0Mr"
      },
      "source": [
        "## 7.1 A dataset of tiny images"
      ]
    },
    {
      "cell_type": "code",
      "execution_count": null,
      "metadata": {
        "colab": {
          "base_uri": "https://localhost:8080/"
        },
        "id": "Z8M8ChKp3r9i",
        "outputId": "07d56623-e079-493e-e8f4-5231c297fd73"
      },
      "outputs": [
        {
          "output_type": "stream",
          "name": "stdout",
          "text": [
            "Downloading https://www.cs.toronto.edu/~kriz/cifar-10-python.tar.gz to /content/gdrive/MyDrive/SBC-Gonzalo/PyTorch-CIFAR10/cifar-10-python.tar.gz\n"
          ]
        },
        {
          "output_type": "stream",
          "name": "stderr",
          "text": [
            "100%|██████████| 170498071/170498071 [00:03<00:00, 48312616.54it/s]\n"
          ]
        },
        {
          "output_type": "stream",
          "name": "stdout",
          "text": [
            "Extracting /content/gdrive/MyDrive/SBC-Gonzalo/PyTorch-CIFAR10/cifar-10-python.tar.gz to /content/gdrive/MyDrive/SBC-Gonzalo/PyTorch-CIFAR10\n",
            "Files already downloaded and verified\n"
          ]
        }
      ],
      "source": [
        "data_path = DATA_PATH = '/content/gdrive/MyDrive/SBC-Gonzalo/PyTorch-CIFAR10'\n",
        "\n",
        "cifar10 = datasets.CIFAR10(data_path, train=True, download=True)\n",
        "cifar10_val = datasets.CIFAR10(data_path, train=False, download=True)"
      ]
    },
    {
      "cell_type": "code",
      "execution_count": null,
      "metadata": {
        "colab": {
          "base_uri": "https://localhost:8080/",
          "height": 452
        },
        "id": "POzBQsPk4siO",
        "outputId": "6b10b728-897f-4354-9dbd-bac8ec50e77a"
      },
      "outputs": [
        {
          "output_type": "display_data",
          "data": {
            "text/plain": [
              "<Figure size 640x480 with 1 Axes>"
            ],
            "image/png": "[encoded data removed]"
          },
          "metadata": {}
        }
      ],
      "source": [
        "img, label = cifar10[114]\n",
        "plt.imshow(img)\n",
        "plt.title(label)\n",
        "plt.show()"
      ]
    },
    {
      "cell_type": "code",
      "execution_count": null,
      "metadata": {
        "id": "gRUL18lIfn51"
      },
      "outputs": [],
      "source": [
        "# to_tensor = transforms.ToTensor()\n",
        "# img_t = to_tensor(img)\n",
        "\n",
        "# Import the dataset transforming it as a tensor:\n",
        "tensor_cifar10 = datasets.CIFAR10(data_path, train=True, download=False,\n",
        "                                  transform=transforms.ToTensor())"
      ]
    },
    {
      "cell_type": "code",
      "execution_count": null,
      "metadata": {
        "colab": {
          "base_uri": "https://localhost:8080/",
          "height": 430
        },
        "id": "bHniLiTxl-5w",
        "outputId": "a35eda92-b009-4e65-d76a-9de37cb8bf22"
      },
      "outputs": [
        {
          "output_type": "display_data",
          "data": {
            "text/plain": [
              "<Figure size 640x480 with 1 Axes>"
            ],
            "image/png": "[encoded data removed]"
          },
          "metadata": {}
        }
      ],
      "source": [
        "img_t, _ = tensor_cifar10[5000]\n",
        "\n",
        "# Permute change the order of the axes:\n",
        "plt.imshow(img_t.permute(1, 2, 0))\n",
        "plt.show()"
      ]
    },
    {
      "cell_type": "code",
      "execution_count": null,
      "metadata": {
        "colab": {
          "base_uri": "https://localhost:8080/"
        },
        "id": "Er2KgGuon9D2",
        "outputId": "1aec40c0-1a33-49e8-dc66-3cac1d1bbf41"
      },
      "outputs": [
        {
          "output_type": "execute_result",
          "data": {
            "text/plain": [
              "torch.Size([3, 32, 32, 50000])"
            ]
          },
          "metadata": {},
          "execution_count": 6
        }
      ],
      "source": [
        "imgs = torch.stack([img_t for img_t, _ in tensor_cifar10], dim=3)\n",
        "imgs.shape"
      ]
    },
    {
      "cell_type": "code",
      "execution_count": null,
      "metadata": {
        "id": "P5B078lFqNrv"
      },
      "outputs": [],
      "source": [
        "transformed_cifar10 = datasets.CIFAR10(data_path, train=True, download=False,\n",
        "                                       transform=transforms.Compose([\n",
        "                                          transforms.ToTensor(),\n",
        "                                          transforms.Normalize(imgs.view(3, -1).mean(dim=1),\n",
        "                                                               imgs.view(3, -1).std(dim=1))\n",
        "                                       ]))\n",
        "\n",
        "transformed_cifar10_val = datasets.CIFAR10(data_path, train=False, download=False,\n",
        "                                           transform=transforms.Compose([\n",
        "                                            transforms.ToTensor(),\n",
        "                                            transforms.Normalize(imgs.view(3, -1).mean(dim=1),\n",
        "                                                                imgs.view(3, -1).std(dim=1))\n",
        "                                       ]))"
      ]
    },
    {
      "cell_type": "code",
      "execution_count": null,
      "metadata": {
        "colab": {
          "base_uri": "https://localhost:8080/",
          "height": 447
        },
        "id": "fBqvE2jSeFU1",
        "outputId": "c96de158-c3f3-474d-d548-28edd27f6524"
      },
      "outputs": [
        {
          "output_type": "stream",
          "name": "stderr",
          "text": [
            "WARNING:matplotlib.image:Clipping input data to the valid range for imshow with RGB data ([0..1] for floats or [0..255] for integers).\n"
          ]
        },
        {
          "output_type": "display_data",
          "data": {
            "text/plain": [
              "<Figure size 640x480 with 1 Axes>"
            ],
            "image/png": "[encoded data removed]"
          },
          "metadata": {}
        }
      ],
      "source": [
        "img_t, _ = transformed_cifar10[5000]\n",
        "\n",
        "# Permute change the order of the axes:\n",
        "plt.imshow(img_t.permute(1, 2, 0))\n",
        "plt.show()"
      ]
    },
    {
      "cell_type": "markdown",
      "metadata": {
        "id": "3ZN2Q3YEsw_9"
      },
      "source": [
        "## 7.2 Distinguishing birds from airplanes"
      ]
    },
    {
      "cell_type": "markdown",
      "metadata": {
        "id": "9g8wJQVCQ01h"
      },
      "source": [
        "### 7.1.1 Building the dataset"
      ]
    },
    {
      "cell_type": "code",
      "execution_count": null,
      "metadata": {
        "id": "yma2peOPslSW"
      },
      "outputs": [],
      "source": [
        "label_map = {0: 0, 2: 1}\n",
        "class_names = ['airplane', 'bird']\n",
        "cifar2 = [(img, label_map[label]) for img, label in transformed_cifar10 if label in [0, 2]]\n",
        "cifar2_val = [(img, label_map[label]) for img, label in transformed_cifar10_val if label in [0, 2]]"
      ]
    },
    {
      "cell_type": "code",
      "execution_count": null,
      "metadata": {
        "colab": {
          "base_uri": "https://localhost:8080/",
          "height": 452
        },
        "id": "vGBH8wyGtAHg",
        "outputId": "46beeefe-6e37-4789-80c3-9e8e1cb0ffa3"
      },
      "outputs": [
        {
          "output_type": "display_data",
          "data": {
            "text/plain": [
              "<Figure size 640x480 with 1 Axes>"
            ],
            "image/png": "[encoded data removed]"
          },
          "metadata": {}
        }
      ],
      "source": [
        "img, label = cifar2[0]\n",
        "plt.imshow(img)\n",
        "plt.title(label)\n",
        "plt.show()"
      ]
    },
    {
      "cell_type": "markdown",
      "metadata": {
        "id": "XE3EuSKiQqk0"
      },
      "source": [
        "### 7.2.2 A fully connected model"
      ]
    },
    {
      "cell_type": "code",
      "execution_count": null,
      "metadata": {
        "id": "UEhPOdkbvmUO"
      },
      "outputs": [],
      "source": [
        "n_out = 2\n",
        "\n",
        "model = nn.Sequential(\n",
        "    nn.Linear(\n",
        "        3072,  # Input features\n",
        "        512,   # Hiden layer size ⬇️\n",
        "    ),\n",
        "    nn.Tanh(),\n",
        "    nn.Linear(\n",
        "        512,\n",
        "        n_out, # Output classes\n",
        "    )\n",
        "    )\n"
      ]
    },
    {
      "cell_type": "markdown",
      "metadata": {
        "id": "qwgjSvVGVEjJ"
      },
      "source": [
        "### 7.2.4 Respresenting the output as probabilities"
      ]
    },
    {
      "cell_type": "code",
      "execution_count": null,
      "metadata": {
        "colab": {
          "base_uri": "https://localhost:8080/"
        },
        "id": "A6FyMzVgVsDE",
        "outputId": "85d63a19-c0e6-448b-d209-ba4f746db507"
      },
      "outputs": [
        {
          "output_type": "execute_result",
          "data": {
            "text/plain": [
              "tensor([[0.0900, 0.2447, 0.6652],\n",
              "        [0.0900, 0.2447, 0.6652]])"
            ]
          },
          "metadata": {},
          "execution_count": 13
        }
      ],
      "source": [
        "softmax = nn.Softmax(dim=1)\n",
        "x = torch.tensor([[1.0, 2.0, 3.0],\n",
        "                  [1.0, 2.0, 3.0]])\n",
        "softmax(x)"
      ]
    },
    {
      "cell_type": "code",
      "execution_count": null,
      "metadata": {
        "id": "8wiXT63jbIiN"
      },
      "outputs": [],
      "source": [
        "model = nn.Sequential(\n",
        "    nn.Linear(3072, 512),\n",
        "    nn.Tanh(),\n",
        "    nn.Linear(512, 2),\n",
        "    nn.Softmax(dim=1))"
      ]
    },
    {
      "cell_type": "code",
      "execution_count": null,
      "metadata": {
        "colab": {
          "base_uri": "https://localhost:8080/",
          "height": 447
        },
        "id": "LdRz83KYbY40",
        "outputId": "3e29b080-30f2-43fd-a621-ca18fc186d8e"
      },
      "outputs": [
        {
          "output_type": "stream",
          "name": "stderr",
          "text": [
            "WARNING:matplotlib.image:Clipping input data to the valid range for imshow with RGB data ([0..1] for floats or [0..255] for integers).\n"
          ]
        },
        {
          "output_type": "display_data",
          "data": {
            "text/plain": [
              "<Figure size 640x480 with 1 Axes>"
            ],
            "image/png": "[encoded data removed]"
          },
          "metadata": {}
        }
      ],
      "source": [
        "img, _ = transformed_cifar2[0]\n",
        "\n",
        "plt.imshow(img.permute(1, 2, 0))\n",
        "plt.show()"
      ]
    },
    {
      "cell_type": "code",
      "execution_count": null,
      "metadata": {
        "id": "HcyDK5mcgIiA"
      },
      "outputs": [],
      "source": [
        "img_batch = img.view(-1).unsqueeze(0)"
      ]
    },
    {
      "cell_type": "code",
      "execution_count": null,
      "metadata": {
        "colab": {
          "base_uri": "https://localhost:8080/"
        },
        "id": "BHqYd8B3gyOT",
        "outputId": "c72b36b6-d848-41f5-d345-501068a64339"
      },
      "outputs": [
        {
          "output_type": "execute_result",
          "data": {
            "text/plain": [
              "tensor([[0.4353, 0.5647]], grad_fn=<SoftmaxBackward0>)"
            ]
          },
          "metadata": {},
          "execution_count": 17
        }
      ],
      "source": [
        "out = model(img_batch)\n",
        "out"
      ]
    },
    {
      "cell_type": "code",
      "execution_count": null,
      "metadata": {
        "colab": {
          "base_uri": "https://localhost:8080/"
        },
        "id": "ClNrXgxhi4Lw",
        "outputId": "95d4fcb7-da78-4725-f3d6-6bff107ee6fe"
      },
      "outputs": [
        {
          "output_type": "execute_result",
          "data": {
            "text/plain": [
              "tensor([1])"
            ]
          },
          "metadata": {},
          "execution_count": 18
        }
      ],
      "source": [
        "_, index = torch.max(out, dim=1)\n",
        "index"
      ]
    },
    {
      "cell_type": "markdown",
      "metadata": {
        "id": "OZpKP_LDj_JG"
      },
      "source": [
        "### 7.2.5 A loss for classifying"
      ]
    },
    {
      "cell_type": "code",
      "execution_count": null,
      "metadata": {
        "id": "C890tiT5kClN"
      },
      "outputs": [],
      "source": [
        "model = nn.Sequential(\n",
        "    nn.Linear(3072, 512),\n",
        "    nn.Tanh(),\n",
        "    nn.Linear(512, 2),\n",
        "    nn.LogSoftmax(dim=1)) # Log makes the log probability calculation numerically stable"
      ]
    },
    {
      "cell_type": "code",
      "execution_count": null,
      "metadata": {
        "id": "KX2ccMrOmWlU"
      },
      "outputs": [],
      "source": [
        "loss = nn.NLLLoss()"
      ]
    },
    {
      "cell_type": "code",
      "execution_count": null,
      "metadata": {
        "colab": {
          "base_uri": "https://localhost:8080/"
        },
        "id": "X42NvKO8mjYk",
        "outputId": "3e836f93-683b-4061-a66f-f57fa18b9299"
      },
      "outputs": [
        {
          "output_type": "execute_result",
          "data": {
            "text/plain": [
              "tensor(0.9032, grad_fn=<NllLossBackward0>)"
            ]
          },
          "metadata": {},
          "execution_count": 21
        }
      ],
      "source": [
        "img, label = transformed_cifar2[0]\n",
        "out = model(img.view(-1).unsqueeze(0))\n",
        "loss(out, torch.tensor([label]))"
      ]
    },
    {
      "cell_type": "markdown",
      "metadata": {
        "id": "Ar1qAgVNpEPc"
      },
      "source": [
        "### 7.2.6 Tarining the classifier"
      ]
    },
    {
      "cell_type": "code",
      "execution_count": null,
      "metadata": {
        "colab": {
          "base_uri": "https://localhost:8080/"
        },
        "id": "O7jZeLGDpBom",
        "outputId": "1d8892b8-e17d-4a60-f71c-6514a9c55464"
      },
      "outputs": [
        {
          "output_type": "stream",
          "name": "stdout",
          "text": [
            "Epoch: 0, Loss: 0.592493\n",
            "Epoch: 1, Loss: 0.438498\n",
            "Epoch: 2, Loss: 0.739124\n",
            "Epoch: 3, Loss: 0.361816\n",
            "Epoch: 4, Loss: 0.406577\n",
            "Epoch: 5, Loss: 0.576995\n",
            "Epoch: 6, Loss: 0.409266\n",
            "Epoch: 7, Loss: 0.518569\n",
            "Epoch: 8, Loss: 0.363782\n",
            "Epoch: 9, Loss: 0.579030\n",
            "Epoch: 10, Loss: 0.354283\n",
            "Epoch: 11, Loss: 0.295501\n",
            "Epoch: 12, Loss: 0.533982\n",
            "Epoch: 13, Loss: 0.658072\n",
            "Epoch: 14, Loss: 0.447663\n",
            "Epoch: 15, Loss: 0.508269\n",
            "Epoch: 16, Loss: 0.511894\n",
            "Epoch: 17, Loss: 0.248359\n",
            "Epoch: 18, Loss: 0.215431\n",
            "Epoch: 19, Loss: 0.461297\n",
            "Epoch: 20, Loss: 0.214056\n",
            "Epoch: 21, Loss: 0.192555\n",
            "Epoch: 22, Loss: 0.333615\n",
            "Epoch: 23, Loss: 0.413155\n",
            "Epoch: 24, Loss: 0.651873\n",
            "Epoch: 25, Loss: 0.692447\n",
            "Epoch: 26, Loss: 0.647354\n",
            "Epoch: 27, Loss: 0.415867\n",
            "Epoch: 28, Loss: 0.378133\n",
            "Epoch: 29, Loss: 0.386540\n",
            "Epoch: 30, Loss: 0.374506\n",
            "Epoch: 31, Loss: 0.310422\n",
            "Epoch: 32, Loss: 0.604320\n",
            "Epoch: 33, Loss: 0.627763\n",
            "Epoch: 34, Loss: 0.418823\n",
            "Epoch: 35, Loss: 1.142976\n",
            "Epoch: 36, Loss: 0.265611\n",
            "Epoch: 37, Loss: 0.574073\n",
            "Epoch: 38, Loss: 0.411659\n",
            "Epoch: 39, Loss: 0.414151\n",
            "Epoch: 40, Loss: 0.278438\n",
            "Epoch: 41, Loss: 0.483862\n",
            "Epoch: 42, Loss: 0.167285\n",
            "Epoch: 43, Loss: 0.182756\n",
            "Epoch: 44, Loss: 0.249416\n",
            "Epoch: 45, Loss: 0.437198\n",
            "Epoch: 46, Loss: 0.539574\n",
            "Epoch: 47, Loss: 0.463792\n",
            "Epoch: 48, Loss: 0.606638\n",
            "Epoch: 49, Loss: 0.146136\n",
            "Epoch: 50, Loss: 0.375067\n",
            "Epoch: 51, Loss: 0.208392\n",
            "Epoch: 52, Loss: 0.595698\n",
            "Epoch: 53, Loss: 0.542408\n",
            "Epoch: 54, Loss: 0.188910\n",
            "Epoch: 55, Loss: 0.460471\n",
            "Epoch: 56, Loss: 0.341631\n",
            "Epoch: 57, Loss: 0.226629\n",
            "Epoch: 58, Loss: 0.173233\n",
            "Epoch: 59, Loss: 0.294973\n",
            "Epoch: 60, Loss: 0.272724\n",
            "Epoch: 61, Loss: 0.253315\n",
            "Epoch: 62, Loss: 0.173777\n",
            "Epoch: 63, Loss: 0.269233\n",
            "Epoch: 64, Loss: 0.243232\n",
            "Epoch: 65, Loss: 0.299906\n",
            "Epoch: 66, Loss: 0.374562\n",
            "Epoch: 67, Loss: 0.203725\n",
            "Epoch: 68, Loss: 0.198320\n",
            "Epoch: 69, Loss: 0.402944\n",
            "Epoch: 70, Loss: 0.368504\n",
            "Epoch: 71, Loss: 0.530288\n",
            "Epoch: 72, Loss: 0.500326\n",
            "Epoch: 73, Loss: 0.242592\n",
            "Epoch: 74, Loss: 0.950627\n",
            "Epoch: 75, Loss: 0.378065\n",
            "Epoch: 76, Loss: 0.296343\n",
            "Epoch: 77, Loss: 0.313445\n",
            "Epoch: 78, Loss: 0.424709\n",
            "Epoch: 79, Loss: 0.511560\n",
            "Epoch: 80, Loss: 0.160778\n",
            "Epoch: 81, Loss: 0.215963\n",
            "Epoch: 82, Loss: 0.245867\n",
            "Epoch: 83, Loss: 0.506577\n",
            "Epoch: 84, Loss: 0.276315\n",
            "Epoch: 85, Loss: 0.300282\n",
            "Epoch: 86, Loss: 0.175781\n",
            "Epoch: 87, Loss: 0.274839\n",
            "Epoch: 88, Loss: 0.260280\n",
            "Epoch: 89, Loss: 0.287561\n",
            "Epoch: 90, Loss: 0.333844\n",
            "Epoch: 91, Loss: 0.132809\n",
            "Epoch: 92, Loss: 0.169207\n",
            "Epoch: 93, Loss: 0.264975\n",
            "Epoch: 94, Loss: 0.225752\n",
            "Epoch: 95, Loss: 0.469068\n",
            "Epoch: 96, Loss: 0.312813\n",
            "Epoch: 97, Loss: 0.248018\n",
            "Epoch: 98, Loss: 0.120555\n",
            "Epoch: 99, Loss: 0.418668\n"
          ]
        }
      ],
      "source": [
        "train_loader = torch.utils.data.DataLoader(transformed_cifar2, batch_size=64, shuffle=True)\n",
        "\n",
        "model = nn.Sequential(\n",
        "            nn.Linear(3072, 1024),\n",
        "            nn.Tanh(),\n",
        "            nn.Linear(1024, 512),\n",
        "            nn.Tanh(),\n",
        "            nn.Linear(512, 128),\n",
        "            nn.Tanh(),\n",
        "            nn.Linear(128, 2))\n",
        "\n",
        "loss_fn = nn.CrossEntropyLoss() # Same as with nn.LogSoftmax and nn.NLLLoss\n",
        "\n",
        "learning_rate = 1e-2\n",
        "optimizer = torch.optim.SGD(model.parameters(), lr=learning_rate)\n",
        "n_epochs = 100\n",
        "\n",
        "for epoch in range(n_epochs):\n",
        "  for imgs, labels in train_loader:\n",
        "    batch_size = imgs.shape[0]\n",
        "    outputs = model(imgs.view(batch_size, -1))\n",
        "    loss = loss_fn(outputs, labels)\n",
        "\n",
        "    optimizer.zero_grad()\n",
        "    loss.backward()\n",
        "    optimizer.step()\n",
        "  print(\"Epoch: %d, Loss: %f\" % (epoch, float(loss)))"
      ]
    },
    {
      "cell_type": "code",
      "source": [
        "val_loader = torch.utils.data.DataLoader(transformed_cifar10_val, batch_size=64, shuffle=False)\n",
        "correct = 0\n",
        "total = 0\n",
        "with torch.no_grad():\n",
        "  for imgs, labels in val_loader:\n",
        "    batch_size = imgs.shape[0]\n",
        "    outputs = model(imgs.view(batch_size, -1))\n",
        "    _, predicted = torch.max(outputs, dim=1)\n",
        "    total += labels.shape[0]\n",
        "    correct += int((predicted == labels).sum())\n",
        "print(f'Accuracy: {correct / total}')"
      ],
      "metadata": {
        "colab": {
          "base_uri": "https://localhost:8080/"
        },
        "id": "aI5xBXD0EmY0",
        "outputId": "23025d7e-0f3c-417c-8f54-7662821313bb"
      },
      "execution_count": null,
      "outputs": [
        {
          "output_type": "stream",
          "name": "stdout",
          "text": [
            "Accuracy: 0.1081\n"
          ]
        }
      ]
    },
    {
      "cell_type": "markdown",
      "source": [
        "# 8 Using convolutions to generalize"
      ],
      "metadata": {
        "id": "Uz0pjVXAeIrC"
      }
    },
    {
      "cell_type": "markdown",
      "source": [
        "## 8.1 The case of convolutions"
      ],
      "metadata": {
        "id": "a6Dqg1aSpMGJ"
      }
    },
    {
      "cell_type": "code",
      "source": [
        "conv = nn.Conv2d(3, 16, kernel_size=3, padding=1)\n",
        "conv"
      ],
      "metadata": {
        "colab": {
          "base_uri": "https://localhost:8080/"
        },
        "id": "g7rhHhijeNvz",
        "outputId": "95a7ff29-c968-47ec-854c-424ea8e21ba0"
      },
      "execution_count": null,
      "outputs": [
        {
          "output_type": "execute_result",
          "data": {
            "text/plain": [
              "Conv2d(3, 16, kernel_size=(3, 3), stride=(1, 1), padding=(1, 1))"
            ]
          },
          "metadata": {},
          "execution_count": 9
        }
      ]
    },
    {
      "cell_type": "code",
      "source": [
        "conv.weight.shape, conv.bias.shape"
      ],
      "metadata": {
        "colab": {
          "base_uri": "https://localhost:8080/"
        },
        "id": "SoLMscW-gFAg",
        "outputId": "acb450b9-bc33-4447-e4ee-686dba6d5671"
      },
      "execution_count": null,
      "outputs": [
        {
          "output_type": "execute_result",
          "data": {
            "text/plain": [
              "(torch.Size([16, 3, 3, 3]), torch.Size([16]))"
            ]
          },
          "metadata": {},
          "execution_count": 10
        }
      ]
    },
    {
      "cell_type": "code",
      "source": [
        "img, _ = cifar2[0]\n",
        "output = conv(img.unsqueeze(0))\n",
        "img.unsqueeze(0).shape, output.shape"
      ],
      "metadata": {
        "colab": {
          "base_uri": "https://localhost:8080/"
        },
        "id": "JLiPBHhJgc2d",
        "outputId": "72f54363-b2a8-474d-e4b8-41c3484ce2be"
      },
      "execution_count": null,
      "outputs": [
        {
          "output_type": "execute_result",
          "data": {
            "text/plain": [
              "(torch.Size([1, 3, 32, 32]), torch.Size([1, 16, 32, 32]))"
            ]
          },
          "metadata": {},
          "execution_count": 11
        }
      ]
    },
    {
      "cell_type": "code",
      "source": [
        "plt.imshow(output[0, 0].detach(), cmap='gray')\n",
        "plt.show()"
      ],
      "metadata": {
        "colab": {
          "base_uri": "https://localhost:8080/",
          "height": 430
        },
        "id": "N5AFPRiYhoL1",
        "outputId": "3de549ca-be25-47ab-fb82-aa9cb729e929"
      },
      "execution_count": null,
      "outputs": [
        {
          "output_type": "display_data",
          "data": {
            "text/plain": [
              "<Figure size 640x480 with 1 Axes>"
            ],
            "image/png": "[encoded data removed]"
          },
          "metadata": {}
        }
      ]
    },
    {
      "cell_type": "code",
      "source": [
        "with torch.no_grad():\n",
        "  conv.bias.zero_()\n",
        "with torch.no_grad():\n",
        "  conv.weight.fill_(1.0 / 9.0)"
      ],
      "metadata": {
        "id": "BSJKhV7jlaIp"
      },
      "execution_count": null,
      "outputs": []
    },
    {
      "cell_type": "code",
      "source": [
        "output = conv(img.unsqueeze(0))\n",
        "plt.imshow(output[0, 0].detach(), cmap='gray')\n",
        "plt.show()"
      ],
      "metadata": {
        "colab": {
          "base_uri": "https://localhost:8080/",
          "height": 430
        },
        "id": "aV9ts9ijldNu",
        "outputId": "e2a2de80-feaa-4c7b-dfdf-f3c1a56ab4c3"
      },
      "execution_count": null,
      "outputs": [
        {
          "output_type": "display_data",
          "data": {
            "text/plain": [
              "<Figure size 640x480 with 1 Axes>"
            ],
            "image/png": "[encoded data removed]"
          },
          "metadata": {}
        }
      ]
    },
    {
      "cell_type": "code",
      "source": [
        "pool = nn.MaxPool2d(2)\n",
        "output = pool(img.unsqueeze(0))\n",
        "img.unsqueeze(0).shape, output.shape"
      ],
      "metadata": {
        "colab": {
          "base_uri": "https://localhost:8080/"
        },
        "id": "3hnQ25kkrYNz",
        "outputId": "55f0b536-17cc-4948-f478-5af0474a7314"
      },
      "execution_count": null,
      "outputs": [
        {
          "output_type": "execute_result",
          "data": {
            "text/plain": [
              "(torch.Size([1, 3, 32, 32]), torch.Size([1, 3, 16, 16]))"
            ]
          },
          "metadata": {},
          "execution_count": 14
        }
      ]
    },
    {
      "cell_type": "code",
      "source": [
        "plt.imshow(output[0, 0].detach(), cmap='gray')\n",
        "plt.show()"
      ],
      "metadata": {
        "colab": {
          "base_uri": "https://localhost:8080/",
          "height": 430
        },
        "id": "EXoLqar0rfXx",
        "outputId": "394c6b35-0f70-4567-ef27-551f561ee884"
      },
      "execution_count": null,
      "outputs": [
        {
          "output_type": "display_data",
          "data": {
            "text/plain": [
              "<Figure size 640x480 with 1 Axes>"
            ],
            "image/png": "[encoded data removed]"
          },
          "metadata": {}
        }
      ]
    },
    {
      "cell_type": "markdown",
      "source": [
        "## 8.3 Subclassing nn.Module"
      ],
      "metadata": {
        "id": "14GBeV7mWMay"
      }
    },
    {
      "cell_type": "code",
      "source": [
        "class Net(nn.Module):\n",
        "  def __init__(self):\n",
        "    super().__init__()\n",
        "    self.conv1 = nn.Conv2d(3, 16, kernel_size=3, padding=1)\n",
        "    self.act1 = nn.Tanh()\n",
        "    self.pool1 = nn.MaxPool2d(2)\n",
        "    self.conv2 = nn.Conv2d(16, 8, kernel_size=3, padding=1)\n",
        "    self.act2 = nn.Tanh()\n",
        "    self.pool2 = nn.MaxPool2d(2)\n",
        "    self.fc1 = nn.Linear(8 * 8 * 8, 32)\n",
        "    self.act3 = nn.Tanh()\n",
        "    self.fc2 = nn.Linear(32, 2)\n",
        "\n",
        "  def forward(self, x):\n",
        "    out = self.pool1(self.act1(self.conv1(x)))\n",
        "    out = self.pool2(self.act2(self.conv2(out)))\n",
        "    out = out.view(-1, 8 * 8 * 8)\n",
        "    out = self.act3(self.fc1(out))\n",
        "    out = self.fc2(out)\n",
        "    return out"
      ],
      "metadata": {
        "id": "U1jlog6-WRHA"
      },
      "execution_count": null,
      "outputs": []
    },
    {
      "cell_type": "code",
      "source": [
        "import torch.nn.functional as F\n",
        "\n",
        "class Net(nn.Module):\n",
        "  def __init__(self):\n",
        "    super().__init__()\n",
        "    self.conv1 = nn.Conv2d(3, 16, kernel_size=3, padding=1)\n",
        "    self.conv2 = nn.Conv2d(16, 8, kernel_size=3, padding=1)\n",
        "    self.fc1 = nn.Linear(8 * 8 * 8, 32)\n",
        "    self.fc2 = nn.Linear(32, 2)\n",
        "\n",
        "  def forward(self, x):\n",
        "    out = F.max_pool2d(torch.tanh(self.conv1(x)), 2)\n",
        "    out = F.max_pool2d(torch.tanh(self.conv2(out)), 2)\n",
        "    out = out.view(-1, 8 * 8 * 8)\n",
        "    out = torch.tanh(self.fc1(out))\n",
        "    out = self.fc2(out)\n",
        "    return out\n"
      ],
      "metadata": {
        "id": "y4ea_S88lrDO"
      },
      "execution_count": null,
      "outputs": []
    },
    {
      "cell_type": "code",
      "source": [
        "model = Net()\n",
        "\n",
        "numel_list = [p.numel() for p in model.parameters()]\n",
        "sum(numel_list), numel_list"
      ],
      "metadata": {
        "colab": {
          "base_uri": "https://localhost:8080/"
        },
        "id": "8Wv3PPUHiB-9",
        "outputId": "0e28b194-7cf2-4a2e-f8a8-9d621ee0c890"
      },
      "execution_count": null,
      "outputs": [
        {
          "output_type": "execute_result",
          "data": {
            "text/plain": [
              "(18090, [432, 16, 1152, 8, 16384, 32, 64, 2])"
            ]
          },
          "metadata": {},
          "execution_count": 22
        }
      ]
    },
    {
      "cell_type": "code",
      "source": [
        "model(img.unsqueeze(0))"
      ],
      "metadata": {
        "colab": {
          "base_uri": "https://localhost:8080/"
        },
        "id": "CrfgMWVxnlrS",
        "outputId": "d42d59b9-445c-4626-cb00-2b6f80263f9f"
      },
      "execution_count": null,
      "outputs": [
        {
          "output_type": "execute_result",
          "data": {
            "text/plain": [
              "tensor([[-0.2076,  0.0683]], grad_fn=<AddmmBackward0>)"
            ]
          },
          "metadata": {},
          "execution_count": 23
        }
      ]
    },
    {
      "cell_type": "markdown",
      "source": [
        "## 8.4 Training our convnet"
      ],
      "metadata": {
        "id": "4cqoCWkopAYp"
      }
    },
    {
      "cell_type": "code",
      "source": [
        "device = (torch.device('cuda') if torch.cuda.is_available() else torch.device('cpu'))\n",
        "print(f\"Training on device {device}.\")"
      ],
      "metadata": {
        "id": "7cwlwnSWxT6I"
      },
      "execution_count": null,
      "outputs": []
    },
    {
      "cell_type": "code",
      "source": [
        "import datetime\n",
        "\n",
        "def training_loop(n_epochs, optimizer, model, loss_fn, train_loader):\n",
        "  for epoch in range(1, n_epochs + 1):\n",
        "    loss_train = 0.0\n",
        "    for imgs, labels in train_loader:\n",
        "      imgs = imgs.to(device=device)\n",
        "      labels = labels.to(device=device)\n",
        "      outputs = model(imgs)\n",
        "      loss = loss_fn(outputs, labels)\n",
        "      optimizer.zero_grad()\n",
        "      loss.backward()\n",
        "      optimizer.step()\n",
        "      loss_train += loss.item()\n",
        "\n",
        "    if epoch == 1 or epoch % 10 == 0:\n",
        "      print(f'{datetime.datetime.now()} \\\n",
        "            Epoch {epoch}, Training loss {loss_train / len(train_loader)}')"
      ],
      "metadata": {
        "id": "zP3uWkxopF_F"
      },
      "execution_count": null,
      "outputs": []
    },
    {
      "cell_type": "code",
      "source": [
        "train_loader = torch.utils.data.DataLoader(cifar2, batch_size=64, shuffle=True)\n",
        "model = Net().to(device=device)\n",
        "optimizer = torch.optim.SGD(model.parameters(), lr=1e-2)\n",
        "loss_fn = nn.CrossEntropyLoss()\n",
        "\n",
        "training_loop(\n",
        "  n_epochs = 100,\n",
        "  optimizer = optimizer,\n",
        "  model = model,\n",
        "  loss_fn = loss_fn,\n",
        "  train_loader = train_loader,\n",
        ")"
      ],
      "metadata": {
        "colab": {
          "base_uri": "https://localhost:8080/"
        },
        "id": "Nk_f0p1irH96",
        "outputId": "b1036944-1054-49c2-95bc-1fdecce1484b"
      },
      "execution_count": null,
      "outputs": [
        {
          "output_type": "stream",
          "name": "stdout",
          "text": [
            "2024-04-16 16:12:44.841437             Epoch 1, Training loss 0.5789792752190001\n",
            "2024-04-16 16:13:27.078652             Epoch 10, Training loss 0.33122658036696684\n",
            "2024-04-16 16:14:14.914440             Epoch 20, Training loss 0.29751998888459175\n",
            "2024-04-16 16:15:03.026094             Epoch 30, Training loss 0.2765565840112176\n",
            "2024-04-16 16:15:49.270118             Epoch 40, Training loss 0.25846850354770184\n",
            "2024-04-16 16:16:34.918025             Epoch 50, Training loss 0.241762536821092\n",
            "2024-04-16 16:17:20.881401             Epoch 60, Training loss 0.21983902488544488\n",
            "2024-04-16 16:18:07.036328             Epoch 70, Training loss 0.20484600828331748\n",
            "2024-04-16 16:18:52.582698             Epoch 80, Training loss 0.1907642388799388\n",
            "2024-04-16 16:19:38.962554             Epoch 90, Training loss 0.1740434478232815\n",
            "2024-04-16 16:20:25.303312             Epoch 100, Training loss 0.1609353938727242\n"
          ]
        }
      ]
    },
    {
      "cell_type": "code",
      "source": [
        "train_loader = torch.utils.data.DataLoader(cifar2, batch_size=64, shuffle=False)\n",
        "val_loader = torch.utils.data.DataLoader(cifar2_val, batch_size=64, shuffle=False)\n",
        "\n",
        "def validate(model, train_loader, val_loader):\n",
        "  for name, loader in [('train', train_loader), ('val', val_loader)]:\n",
        "    correct = 0\n",
        "    total = 0\n",
        "\n",
        "    with torch.no_grad():\n",
        "      for imgs, labels in loader:\n",
        "        outputs = model(imgs)\n",
        "        _, predicted = torch.max(outputs, dim=1)\n",
        "        total += labels.shape[0]\n",
        "        correct += int((predicted == labels).sum())\n",
        "\n",
        "    print(f'Accuracy {name}: {correct / total}')\n",
        "\n",
        "validate(model, train_loader, val_loader)"
      ],
      "metadata": {
        "colab": {
          "base_uri": "https://localhost:8080/"
        },
        "id": "sHFhtj32r8ng",
        "outputId": "b74c9767-4d76-4b4f-8f6e-b8952df9aa38"
      },
      "execution_count": null,
      "outputs": [
        {
          "output_type": "stream",
          "name": "stdout",
          "text": [
            "Accuracy train: 0.9388\n",
            "Accuracy val: 0.896\n"
          ]
        }
      ]
    },
    {
      "cell_type": "markdown",
      "source": [
        "### 8.4.2 Saving and loading our model"
      ],
      "metadata": {
        "id": "0PeM6y52wLMZ"
      }
    },
    {
      "cell_type": "code",
      "source": [
        "torch.save(model.state_dict(), data_path + 'birds_vs_airplanes.pt')"
      ],
      "metadata": {
        "id": "dPZJzngjv702"
      },
      "execution_count": null,
      "outputs": []
    },
    {
      "cell_type": "code",
      "source": [
        "loaded_model = Net().to(device=device)\n",
        "loaded_model.load_state_dict(torch.load(data_path + 'birds_vs_airplanes.pt',\n",
        "                                        map_location=device))"
      ],
      "metadata": {
        "colab": {
          "base_uri": "https://localhost:8080/"
        },
        "id": "0M2is9WMwDex",
        "outputId": "94b8dea3-0325-473a-8889-13c31ce652d9"
      },
      "execution_count": null,
      "outputs": [
        {
          "output_type": "execute_result",
          "data": {
            "text/plain": [
              "<All keys matched successfully>"
            ]
          },
          "metadata": {},
          "execution_count": 30
        }
      ]
    }
  ],
  "metadata": {
    "colab": {
      "provenance": [],
      "authorship_tag": "ABX9TyPUjm14R5ZTjUayiHMZOUId",
      "include_colab_link": true
    },
    "kernelspec": {
      "display_name": "Python 3",
      "name": "python3"
    },
    "language_info": {
      "name": "python"
    }
  },
  "nbformat": 4,
  "nbformat_minor": 0
}